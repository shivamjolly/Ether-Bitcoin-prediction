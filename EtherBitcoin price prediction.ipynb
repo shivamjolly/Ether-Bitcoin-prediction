{
 "cells": [
  {
   "cell_type": "markdown",
   "id": "684f613a",
   "metadata": {},
   "source": [
    "### Ethereum Crypto Currency Price Prediction\n",
    "\n",
    "\n",
    "In this dataset, price is our dependent feature and the rest is our dependent features.\n",
    "\n"
   ]
  },
  {
   "cell_type": "code",
   "execution_count": 1,
   "id": "8121a907",
   "metadata": {},
   "outputs": [],
   "source": [
    "import pandas as pd\n",
    "import numpy as np\n",
    "import matplotlib.pyplot as plt\n",
    "%matplotlib inline\n",
    "import seaborn as sns"
   ]
  },
  {
   "cell_type": "code",
   "execution_count": 2,
   "id": "1137116b",
   "metadata": {},
   "outputs": [
    {
     "data": {
      "text/html": [
       "<div>\n",
       "<style scoped>\n",
       "    .dataframe tbody tr th:only-of-type {\n",
       "        vertical-align: middle;\n",
       "    }\n",
       "\n",
       "    .dataframe tbody tr th {\n",
       "        vertical-align: top;\n",
       "    }\n",
       "\n",
       "    .dataframe thead th {\n",
       "        text-align: right;\n",
       "    }\n",
       "</style>\n",
       "<table border=\"1\" class=\"dataframe\">\n",
       "  <thead>\n",
       "    <tr style=\"text-align: right;\">\n",
       "      <th></th>\n",
       "      <th>Date</th>\n",
       "      <th>Price</th>\n",
       "      <th>Open</th>\n",
       "      <th>High</th>\n",
       "      <th>Low</th>\n",
       "      <th>Vol.</th>\n",
       "      <th>Change %</th>\n",
       "    </tr>\n",
       "  </thead>\n",
       "  <tbody>\n",
       "    <tr>\n",
       "      <th>0</th>\n",
       "      <td>Mar 10, 2016</td>\n",
       "      <td>11.75</td>\n",
       "      <td>11.20</td>\n",
       "      <td>11.85</td>\n",
       "      <td>11.07</td>\n",
       "      <td>0.00K</td>\n",
       "      <td>4.91%</td>\n",
       "    </tr>\n",
       "    <tr>\n",
       "      <th>1</th>\n",
       "      <td>Mar 11, 2016</td>\n",
       "      <td>11.95</td>\n",
       "      <td>11.75</td>\n",
       "      <td>11.95</td>\n",
       "      <td>11.75</td>\n",
       "      <td>0.18K</td>\n",
       "      <td>1.70%</td>\n",
       "    </tr>\n",
       "    <tr>\n",
       "      <th>2</th>\n",
       "      <td>Mar 12, 2016</td>\n",
       "      <td>12.92</td>\n",
       "      <td>11.95</td>\n",
       "      <td>13.45</td>\n",
       "      <td>11.95</td>\n",
       "      <td>0.83K</td>\n",
       "      <td>8.12%</td>\n",
       "    </tr>\n",
       "    <tr>\n",
       "      <th>3</th>\n",
       "      <td>Mar 13, 2016</td>\n",
       "      <td>15.07</td>\n",
       "      <td>12.92</td>\n",
       "      <td>15.07</td>\n",
       "      <td>12.92</td>\n",
       "      <td>1.30K</td>\n",
       "      <td>16.64%</td>\n",
       "    </tr>\n",
       "    <tr>\n",
       "      <th>4</th>\n",
       "      <td>Mar 14, 2016</td>\n",
       "      <td>12.50</td>\n",
       "      <td>15.07</td>\n",
       "      <td>15.07</td>\n",
       "      <td>11.40</td>\n",
       "      <td>92.18K</td>\n",
       "      <td>-17.05%</td>\n",
       "    </tr>\n",
       "  </tbody>\n",
       "</table>\n",
       "</div>"
      ],
      "text/plain": [
       "           Date  Price   Open   High    Low    Vol. Change %\n",
       "0  Mar 10, 2016  11.75  11.20  11.85  11.07   0.00K    4.91%\n",
       "1  Mar 11, 2016  11.95  11.75  11.95  11.75   0.18K    1.70%\n",
       "2  Mar 12, 2016  12.92  11.95  13.45  11.95   0.83K    8.12%\n",
       "3  Mar 13, 2016  15.07  12.92  15.07  12.92   1.30K   16.64%\n",
       "4  Mar 14, 2016  12.50  15.07  15.07  11.40  92.18K  -17.05%"
      ]
     },
     "execution_count": 2,
     "metadata": {},
     "output_type": "execute_result"
    }
   ],
   "source": [
    "#https://www.kaggle.com/tanmay1710/ethereum-price-trend-historical-data\n",
    "df = pd.read_csv('E:/personal project/bitcoin/Ethereum Historical Data.csv')\n",
    "df.head()"
   ]
  },
  {
   "cell_type": "code",
   "execution_count": 3,
   "id": "b3ecf891",
   "metadata": {},
   "outputs": [
    {
     "data": {
      "text/html": [
       "<div>\n",
       "<style scoped>\n",
       "    .dataframe tbody tr th:only-of-type {\n",
       "        vertical-align: middle;\n",
       "    }\n",
       "\n",
       "    .dataframe tbody tr th {\n",
       "        vertical-align: top;\n",
       "    }\n",
       "\n",
       "    .dataframe thead th {\n",
       "        text-align: right;\n",
       "    }\n",
       "</style>\n",
       "<table border=\"1\" class=\"dataframe\">\n",
       "  <thead>\n",
       "    <tr style=\"text-align: right;\">\n",
       "      <th></th>\n",
       "      <th>Date</th>\n",
       "      <th>Price</th>\n",
       "      <th>Open</th>\n",
       "      <th>High</th>\n",
       "      <th>Low</th>\n",
       "      <th>Vol.</th>\n",
       "      <th>Change %</th>\n",
       "    </tr>\n",
       "  </thead>\n",
       "  <tbody>\n",
       "    <tr>\n",
       "      <th>1885</th>\n",
       "      <td>May 08, 2021</td>\n",
       "      <td>3,905.55</td>\n",
       "      <td>3,479.81</td>\n",
       "      <td>3,952.88</td>\n",
       "      <td>3,453.37</td>\n",
       "      <td>1.34M</td>\n",
       "      <td>12.19%</td>\n",
       "    </tr>\n",
       "    <tr>\n",
       "      <th>1886</th>\n",
       "      <td>May 09, 2021</td>\n",
       "      <td>3,922.23</td>\n",
       "      <td>3,905.69</td>\n",
       "      <td>3,979.77</td>\n",
       "      <td>3,734.44</td>\n",
       "      <td>1.94M</td>\n",
       "      <td>0.43%</td>\n",
       "    </tr>\n",
       "    <tr>\n",
       "      <th>1887</th>\n",
       "      <td>May 10, 2021</td>\n",
       "      <td>3,947.90</td>\n",
       "      <td>3,923.48</td>\n",
       "      <td>4,203.98</td>\n",
       "      <td>3,669.84</td>\n",
       "      <td>2.70M</td>\n",
       "      <td>0.65%</td>\n",
       "    </tr>\n",
       "    <tr>\n",
       "      <th>1888</th>\n",
       "      <td>May 11, 2021</td>\n",
       "      <td>4,167.78</td>\n",
       "      <td>3,948.66</td>\n",
       "      <td>4,177.53</td>\n",
       "      <td>3,781.86</td>\n",
       "      <td>1.27M</td>\n",
       "      <td>5.57%</td>\n",
       "    </tr>\n",
       "    <tr>\n",
       "      <th>1889</th>\n",
       "      <td>May 12, 2021</td>\n",
       "      <td>4,241.19</td>\n",
       "      <td>4,173.61</td>\n",
       "      <td>4,366.10</td>\n",
       "      <td>4,151.39</td>\n",
       "      <td>2.20M</td>\n",
       "      <td>1.76%</td>\n",
       "    </tr>\n",
       "  </tbody>\n",
       "</table>\n",
       "</div>"
      ],
      "text/plain": [
       "              Date     Price      Open      High       Low   Vol. Change %\n",
       "1885  May 08, 2021  3,905.55  3,479.81  3,952.88  3,453.37  1.34M   12.19%\n",
       "1886  May 09, 2021  3,922.23  3,905.69  3,979.77  3,734.44  1.94M    0.43%\n",
       "1887  May 10, 2021  3,947.90  3,923.48  4,203.98  3,669.84  2.70M    0.65%\n",
       "1888  May 11, 2021  4,167.78  3,948.66  4,177.53  3,781.86  1.27M    5.57%\n",
       "1889  May 12, 2021  4,241.19  4,173.61  4,366.10  4,151.39  2.20M    1.76%"
      ]
     },
     "execution_count": 3,
     "metadata": {},
     "output_type": "execute_result"
    }
   ],
   "source": [
    "df.tail()"
   ]
  },
  {
   "cell_type": "code",
   "execution_count": 4,
   "id": "ae747257",
   "metadata": {},
   "outputs": [
    {
     "data": {
      "text/plain": [
       "0     0.00K\n",
       "1     0.18K\n",
       "2     0.83K\n",
       "3     1.30K\n",
       "4    92.18K\n",
       "Name: Vol., dtype: object"
      ]
     },
     "execution_count": 4,
     "metadata": {},
     "output_type": "execute_result"
    }
   ],
   "source": [
    "df['Vol.'].head()"
   ]
  },
  {
   "cell_type": "markdown",
   "id": "b3b4d9ad",
   "metadata": {},
   "source": [
    "### Data Cleaning"
   ]
  },
  {
   "cell_type": "code",
   "execution_count": 5,
   "id": "f7e27664",
   "metadata": {},
   "outputs": [],
   "source": [
    "## AS volume column of dataset is not cleaned\n",
    "for i in df['Vol.'].index:\n",
    "    if (df['Vol.'][i] == '-'):\n",
    "        df['Vol.'][i] = np.nan"
   ]
  },
  {
   "cell_type": "code",
   "execution_count": 6,
   "id": "24912349",
   "metadata": {},
   "outputs": [
    {
     "data": {
      "text/plain": [
       "Date        0\n",
       "Price       0\n",
       "Open        0\n",
       "High        0\n",
       "Low         0\n",
       "Vol.        8\n",
       "Change %    0\n",
       "dtype: int64"
      ]
     },
     "execution_count": 6,
     "metadata": {},
     "output_type": "execute_result"
    }
   ],
   "source": [
    "### to check for null values\n",
    "df.isnull().sum()"
   ]
  },
  {
   "cell_type": "code",
   "execution_count": 7,
   "id": "dc20755c",
   "metadata": {},
   "outputs": [
    {
     "data": {
      "text/plain": [
       "Date        object\n",
       "Price       object\n",
       "Open        object\n",
       "High        object\n",
       "Low         object\n",
       "Vol.        object\n",
       "Change %    object\n",
       "dtype: object"
      ]
     },
     "execution_count": 7,
     "metadata": {},
     "output_type": "execute_result"
    }
   ],
   "source": [
    "### To check data types\n",
    "df.dtypes"
   ]
  },
  {
   "cell_type": "code",
   "execution_count": 8,
   "id": "ac0870fb",
   "metadata": {},
   "outputs": [
    {
     "data": {
      "text/plain": [
       "0     0.00*1e3\n",
       "1     0.18*1e3\n",
       "2     0.83*1e3\n",
       "3     1.30*1e3\n",
       "4    92.18*1e3\n",
       "Name: Vol., dtype: object"
      ]
     },
     "execution_count": 8,
     "metadata": {},
     "output_type": "execute_result"
    }
   ],
   "source": [
    "### For converting the Vol. column values to numerical values\n",
    "df['Vol.']= df['Vol.'].replace({'K':'*1e3', 'M': '*1e6'}, regex = True)\n",
    "\n",
    "df['Vol.'].head()"
   ]
  },
  {
   "cell_type": "code",
   "execution_count": 9,
   "id": "64bac352",
   "metadata": {},
   "outputs": [],
   "source": [
    "## Loop to evaluate every expression\n",
    "for i in df['Vol.'].index:\n",
    "        if (pd.isnull(df['Vol.'][i])):\n",
    "            continue\n",
    "        else:\n",
    "            df['Vol.'][i] = pd.eval(df['Vol.'][i])"
   ]
  },
  {
   "cell_type": "code",
   "execution_count": 10,
   "id": "b0d4c0b2",
   "metadata": {},
   "outputs": [
    {
     "data": {
      "text/plain": [
       "0        0.0\n",
       "1      180.0\n",
       "2      830.0\n",
       "3     1300.0\n",
       "4    92180.0\n",
       "Name: Vol., dtype: object"
      ]
     },
     "execution_count": 10,
     "metadata": {},
     "output_type": "execute_result"
    }
   ],
   "source": [
    "df['Vol.'].head()"
   ]
  },
  {
   "cell_type": "code",
   "execution_count": 11,
   "id": "c05cb134",
   "metadata": {},
   "outputs": [
    {
     "data": {
      "text/plain": [
       "1885    1340000.0\n",
       "1886    1940000.0\n",
       "1887    2700000.0\n",
       "1888    1270000.0\n",
       "1889    2200000.0\n",
       "Name: Vol., dtype: object"
      ]
     },
     "execution_count": 11,
     "metadata": {},
     "output_type": "execute_result"
    }
   ],
   "source": [
    "df['Vol.'].tail()"
   ]
  },
  {
   "cell_type": "code",
   "execution_count": 12,
   "id": "9bd00d40",
   "metadata": {},
   "outputs": [
    {
     "data": {
      "text/plain": [
       "0      4.91\n",
       "1      1.70\n",
       "2      8.12\n",
       "3     16.64\n",
       "4    -17.05\n",
       "Name: Change %, dtype: object"
      ]
     },
     "execution_count": 12,
     "metadata": {},
     "output_type": "execute_result"
    }
   ],
   "source": [
    "### To remove the '%' from the values of Change % column\n",
    "df['Change %'] = df['Change %'].map(lambda x: x.rstrip('%'))\n",
    "df['Change %'].head()"
   ]
  },
  {
   "cell_type": "code",
   "execution_count": 13,
   "id": "8a3d24a6",
   "metadata": {},
   "outputs": [
    {
     "data": {
      "text/plain": [
       "1885    12.19\n",
       "1886     0.43\n",
       "1887     0.65\n",
       "1888     5.57\n",
       "1889     1.76\n",
       "Name: Change %, dtype: object"
      ]
     },
     "execution_count": 13,
     "metadata": {},
     "output_type": "execute_result"
    }
   ],
   "source": [
    "df['Change %'].tail()"
   ]
  },
  {
   "cell_type": "code",
   "execution_count": 14,
   "id": "39197e9c",
   "metadata": {},
   "outputs": [],
   "source": [
    "## Removing ',' from the following column values\n",
    "df['Price'] = df['Price'].str.replace(',', '')\n",
    "df['Open'] = df['Open'].str.replace(',', '')\n",
    "df['Low'] = df['Low'].str.replace(',', '')\n",
    "df['High'] = df['High'].str.replace(',', '')\n",
    "                 "
   ]
  },
  {
   "cell_type": "code",
   "execution_count": 15,
   "id": "d2a33629",
   "metadata": {},
   "outputs": [
    {
     "data": {
      "text/plain": [
       "0         11.20\n",
       "1         11.75\n",
       "2         11.95\n",
       "3         12.92\n",
       "4         15.07\n",
       "         ...   \n",
       "1885    3479.81\n",
       "1886    3905.69\n",
       "1887    3923.48\n",
       "1888    3948.66\n",
       "1889    4173.61\n",
       "Name: Open, Length: 1890, dtype: object"
      ]
     },
     "execution_count": 15,
     "metadata": {},
     "output_type": "execute_result"
    }
   ],
   "source": [
    "df['Open']"
   ]
  },
  {
   "cell_type": "code",
   "execution_count": 16,
   "id": "62c2be25",
   "metadata": {},
   "outputs": [],
   "source": [
    "## Converting the data type of columns\n",
    "for i in df.columns:\n",
    "    if (i != 'Date'):\n",
    "        df[i] = pd.to_numeric(df[i],errors = 'coerce')"
   ]
  },
  {
   "cell_type": "code",
   "execution_count": 17,
   "id": "1382cb3b",
   "metadata": {},
   "outputs": [
    {
     "name": "stdout",
     "output_type": "stream",
     "text": [
      "<class 'pandas.core.frame.DataFrame'>\n",
      "RangeIndex: 1890 entries, 0 to 1889\n",
      "Data columns (total 7 columns):\n",
      " #   Column    Non-Null Count  Dtype  \n",
      "---  ------    --------------  -----  \n",
      " 0   Date      1890 non-null   object \n",
      " 1   Price     1890 non-null   float64\n",
      " 2   Open      1890 non-null   float64\n",
      " 3   High      1890 non-null   float64\n",
      " 4   Low       1890 non-null   float64\n",
      " 5   Vol.      1882 non-null   float64\n",
      " 6   Change %  1890 non-null   float64\n",
      "dtypes: float64(6), object(1)\n",
      "memory usage: 103.5+ KB\n"
     ]
    }
   ],
   "source": [
    "df.info()"
   ]
  },
  {
   "cell_type": "code",
   "execution_count": 18,
   "id": "b2dcc91f",
   "metadata": {},
   "outputs": [
    {
     "data": {
      "text/plain": [
       "Date        0\n",
       "Price       0\n",
       "Open        0\n",
       "High        0\n",
       "Low         0\n",
       "Vol.        8\n",
       "Change %    0\n",
       "dtype: int64"
      ]
     },
     "execution_count": 18,
     "metadata": {},
     "output_type": "execute_result"
    }
   ],
   "source": [
    "df.isnull().sum()"
   ]
  },
  {
   "cell_type": "code",
   "execution_count": 19,
   "id": "3e701615",
   "metadata": {},
   "outputs": [],
   "source": [
    "df.drop(['Date'], axis = 1, inplace = True)"
   ]
  },
  {
   "cell_type": "code",
   "execution_count": 20,
   "id": "bf257070",
   "metadata": {},
   "outputs": [],
   "source": [
    "## To handle missing value from Vol. column\n",
    "def impute_nan(df, variable, mean, median):\n",
    "    df[variable + '_mean'] = df[variable].fillna(mean)\n",
    "    df[variable + '_median'] = df[variable].fillna(median)"
   ]
  },
  {
   "cell_type": "code",
   "execution_count": 21,
   "id": "e1aefd7d",
   "metadata": {},
   "outputs": [
    {
     "data": {
      "text/plain": [
       "5892465.64293305"
      ]
     },
     "execution_count": 21,
     "metadata": {},
     "output_type": "execute_result"
    }
   ],
   "source": [
    "mean = df['Vol.'].mean()\n",
    "mean"
   ]
  },
  {
   "cell_type": "code",
   "execution_count": 22,
   "id": "7302268d",
   "metadata": {},
   "outputs": [
    {
     "data": {
      "text/plain": [
       "1990000.0"
      ]
     },
     "execution_count": 22,
     "metadata": {},
     "output_type": "execute_result"
    }
   ],
   "source": [
    "median = df['Vol.'].median()\n",
    "median"
   ]
  },
  {
   "cell_type": "code",
   "execution_count": 23,
   "id": "680a445e",
   "metadata": {},
   "outputs": [],
   "source": [
    "impute_nan(df, 'Vol.', mean, median)"
   ]
  },
  {
   "cell_type": "code",
   "execution_count": 24,
   "id": "c679dc23",
   "metadata": {},
   "outputs": [
    {
     "data": {
      "text/html": [
       "<div>\n",
       "<style scoped>\n",
       "    .dataframe tbody tr th:only-of-type {\n",
       "        vertical-align: middle;\n",
       "    }\n",
       "\n",
       "    .dataframe tbody tr th {\n",
       "        vertical-align: top;\n",
       "    }\n",
       "\n",
       "    .dataframe thead th {\n",
       "        text-align: right;\n",
       "    }\n",
       "</style>\n",
       "<table border=\"1\" class=\"dataframe\">\n",
       "  <thead>\n",
       "    <tr style=\"text-align: right;\">\n",
       "      <th></th>\n",
       "      <th>Price</th>\n",
       "      <th>Open</th>\n",
       "      <th>High</th>\n",
       "      <th>Low</th>\n",
       "      <th>Vol.</th>\n",
       "      <th>Change %</th>\n",
       "      <th>Vol._mean</th>\n",
       "      <th>Vol._median</th>\n",
       "    </tr>\n",
       "  </thead>\n",
       "  <tbody>\n",
       "    <tr>\n",
       "      <th>0</th>\n",
       "      <td>11.75</td>\n",
       "      <td>11.20</td>\n",
       "      <td>11.85</td>\n",
       "      <td>11.07</td>\n",
       "      <td>0.0</td>\n",
       "      <td>4.91</td>\n",
       "      <td>0.0</td>\n",
       "      <td>0.0</td>\n",
       "    </tr>\n",
       "    <tr>\n",
       "      <th>1</th>\n",
       "      <td>11.95</td>\n",
       "      <td>11.75</td>\n",
       "      <td>11.95</td>\n",
       "      <td>11.75</td>\n",
       "      <td>180.0</td>\n",
       "      <td>1.70</td>\n",
       "      <td>180.0</td>\n",
       "      <td>180.0</td>\n",
       "    </tr>\n",
       "    <tr>\n",
       "      <th>2</th>\n",
       "      <td>12.92</td>\n",
       "      <td>11.95</td>\n",
       "      <td>13.45</td>\n",
       "      <td>11.95</td>\n",
       "      <td>830.0</td>\n",
       "      <td>8.12</td>\n",
       "      <td>830.0</td>\n",
       "      <td>830.0</td>\n",
       "    </tr>\n",
       "    <tr>\n",
       "      <th>3</th>\n",
       "      <td>15.07</td>\n",
       "      <td>12.92</td>\n",
       "      <td>15.07</td>\n",
       "      <td>12.92</td>\n",
       "      <td>1300.0</td>\n",
       "      <td>16.64</td>\n",
       "      <td>1300.0</td>\n",
       "      <td>1300.0</td>\n",
       "    </tr>\n",
       "    <tr>\n",
       "      <th>4</th>\n",
       "      <td>12.50</td>\n",
       "      <td>15.07</td>\n",
       "      <td>15.07</td>\n",
       "      <td>11.40</td>\n",
       "      <td>92180.0</td>\n",
       "      <td>-17.05</td>\n",
       "      <td>92180.0</td>\n",
       "      <td>92180.0</td>\n",
       "    </tr>\n",
       "  </tbody>\n",
       "</table>\n",
       "</div>"
      ],
      "text/plain": [
       "   Price   Open   High    Low     Vol.  Change %  Vol._mean  Vol._median\n",
       "0  11.75  11.20  11.85  11.07      0.0      4.91        0.0          0.0\n",
       "1  11.95  11.75  11.95  11.75    180.0      1.70      180.0        180.0\n",
       "2  12.92  11.95  13.45  11.95    830.0      8.12      830.0        830.0\n",
       "3  15.07  12.92  15.07  12.92   1300.0     16.64     1300.0       1300.0\n",
       "4  12.50  15.07  15.07  11.40  92180.0    -17.05    92180.0      92180.0"
      ]
     },
     "execution_count": 24,
     "metadata": {},
     "output_type": "execute_result"
    }
   ],
   "source": [
    "df.head()"
   ]
  },
  {
   "cell_type": "code",
   "execution_count": 25,
   "id": "aab09724",
   "metadata": {},
   "outputs": [
    {
     "data": {
      "image/png": "[encoded data removed]",
      "text/plain": [
       "<Figure size 432x288 with 1 Axes>"
      ]
     },
     "metadata": {
      "needs_background": "light"
     },
     "output_type": "display_data"
    }
   ],
   "source": [
    "## To check how much impact these two techniques of missing values are having\n",
    "plt.figure()\n",
    "df['Vol.'].plot(kind = 'kde', color = 'blue', label = 'Vol.')\n",
    "df['Vol._mean'].plot(kind = 'kde', color = 'red', label = 'Vol._mean')\n",
    "plt.legend()\n",
    "plt.show()"
   ]
  },
  {
   "cell_type": "code",
   "execution_count": 26,
   "id": "9976f3ff",
   "metadata": {},
   "outputs": [
    {
     "data": {
      "image/png": "[encoded data removed]",
      "text/plain": [
       "<Figure size 432x288 with 1 Axes>"
      ]
     },
     "metadata": {
      "needs_background": "light"
     },
     "output_type": "display_data"
    }
   ],
   "source": [
    "plt.figure()\n",
    "df['Vol.'].plot(kind = 'kde', color = 'blue', label = 'Vol.')\n",
    "df['Vol._median'].plot(kind = 'kde', color = 'black', label = 'Vol._median')\n",
    "plt.legend()\n",
    "plt.show()"
   ]
  },
  {
   "cell_type": "markdown",
   "id": "1032d80f",
   "metadata": {},
   "source": [
    "#### As we can see, replacement by means and median in this case, is not affecting the distribution. Both the methods are feasible, I am going with median method."
   ]
  },
  {
   "cell_type": "code",
   "execution_count": 27,
   "id": "57dac627",
   "metadata": {},
   "outputs": [],
   "source": [
    "df.drop(['Vol.'], axis = 1, inplace = True)\n",
    "df.drop(['Vol._mean'], axis = 1, inplace = True)"
   ]
  },
  {
   "cell_type": "code",
   "execution_count": 28,
   "id": "a1fbe322",
   "metadata": {},
   "outputs": [],
   "source": [
    "df.rename(columns = {'Vol._median': 'Volume' }, inplace = True)"
   ]
  },
  {
   "cell_type": "markdown",
   "id": "3c689ae6",
   "metadata": {},
   "source": [
    "#### EXPLORATORY DATA ANALYSIS"
   ]
  },
  {
   "cell_type": "code",
   "execution_count": 29,
   "id": "36622ae6",
   "metadata": {},
   "outputs": [
    {
     "name": "stdout",
     "output_type": "stream",
     "text": [
      "<class 'pandas.core.frame.DataFrame'>\n",
      "RangeIndex: 1890 entries, 0 to 1889\n",
      "Data columns (total 6 columns):\n",
      " #   Column    Non-Null Count  Dtype  \n",
      "---  ------    --------------  -----  \n",
      " 0   Price     1890 non-null   float64\n",
      " 1   Open      1890 non-null   float64\n",
      " 2   High      1890 non-null   float64\n",
      " 3   Low       1890 non-null   float64\n",
      " 4   Change %  1890 non-null   float64\n",
      " 5   Volume    1890 non-null   float64\n",
      "dtypes: float64(6)\n",
      "memory usage: 88.7 KB\n"
     ]
    }
   ],
   "source": [
    "df.info()"
   ]
  },
  {
   "cell_type": "code",
   "execution_count": 30,
   "id": "bc8a4283",
   "metadata": {},
   "outputs": [
    {
     "data": {
      "text/html": [
       "<div>\n",
       "<style scoped>\n",
       "    .dataframe tbody tr th:only-of-type {\n",
       "        vertical-align: middle;\n",
       "    }\n",
       "\n",
       "    .dataframe tbody tr th {\n",
       "        vertical-align: top;\n",
       "    }\n",
       "\n",
       "    .dataframe thead th {\n",
       "        text-align: right;\n",
       "    }\n",
       "</style>\n",
       "<table border=\"1\" class=\"dataframe\">\n",
       "  <thead>\n",
       "    <tr style=\"text-align: right;\">\n",
       "      <th></th>\n",
       "      <th>Price</th>\n",
       "      <th>Open</th>\n",
       "      <th>High</th>\n",
       "      <th>Low</th>\n",
       "      <th>Change %</th>\n",
       "      <th>Volume</th>\n",
       "    </tr>\n",
       "  </thead>\n",
       "  <tbody>\n",
       "    <tr>\n",
       "      <th>count</th>\n",
       "      <td>1890.000000</td>\n",
       "      <td>1890.000000</td>\n",
       "      <td>1890.000000</td>\n",
       "      <td>1890.000000</td>\n",
       "      <td>1890.000000</td>\n",
       "      <td>1.890000e+03</td>\n",
       "    </tr>\n",
       "    <tr>\n",
       "      <th>mean</th>\n",
       "      <td>364.325894</td>\n",
       "      <td>362.103444</td>\n",
       "      <td>377.091714</td>\n",
       "      <td>346.397492</td>\n",
       "      <td>0.478704</td>\n",
       "      <td>5.875947e+06</td>\n",
       "    </tr>\n",
       "    <tr>\n",
       "      <th>std</th>\n",
       "      <td>508.675047</td>\n",
       "      <td>500.897669</td>\n",
       "      <td>524.569532</td>\n",
       "      <td>479.876352</td>\n",
       "      <td>5.719658</td>\n",
       "      <td>8.098083e+06</td>\n",
       "    </tr>\n",
       "    <tr>\n",
       "      <th>min</th>\n",
       "      <td>6.700000</td>\n",
       "      <td>6.680000</td>\n",
       "      <td>7.320000</td>\n",
       "      <td>5.860000</td>\n",
       "      <td>-44.550000</td>\n",
       "      <td>0.000000e+00</td>\n",
       "    </tr>\n",
       "    <tr>\n",
       "      <th>25%</th>\n",
       "      <td>114.617500</td>\n",
       "      <td>114.577500</td>\n",
       "      <td>119.125000</td>\n",
       "      <td>106.647500</td>\n",
       "      <td>-2.170000</td>\n",
       "      <td>5.369325e+05</td>\n",
       "    </tr>\n",
       "    <tr>\n",
       "      <th>50%</th>\n",
       "      <td>213.710000</td>\n",
       "      <td>213.175000</td>\n",
       "      <td>220.510000</td>\n",
       "      <td>206.435000</td>\n",
       "      <td>0.095000</td>\n",
       "      <td>1.990000e+06</td>\n",
       "    </tr>\n",
       "    <tr>\n",
       "      <th>75%</th>\n",
       "      <td>388.762500</td>\n",
       "      <td>388.245000</td>\n",
       "      <td>401.597500</td>\n",
       "      <td>378.755000</td>\n",
       "      <td>2.997500</td>\n",
       "      <td>9.020000e+06</td>\n",
       "    </tr>\n",
       "    <tr>\n",
       "      <th>max</th>\n",
       "      <td>4241.190000</td>\n",
       "      <td>4173.610000</td>\n",
       "      <td>4366.100000</td>\n",
       "      <td>4151.390000</td>\n",
       "      <td>29.510000</td>\n",
       "      <td>7.747000e+07</td>\n",
       "    </tr>\n",
       "  </tbody>\n",
       "</table>\n",
       "</div>"
      ],
      "text/plain": [
       "             Price         Open         High          Low     Change %  \\\n",
       "count  1890.000000  1890.000000  1890.000000  1890.000000  1890.000000   \n",
       "mean    364.325894   362.103444   377.091714   346.397492     0.478704   \n",
       "std     508.675047   500.897669   524.569532   479.876352     5.719658   \n",
       "min       6.700000     6.680000     7.320000     5.860000   -44.550000   \n",
       "25%     114.617500   114.577500   119.125000   106.647500    -2.170000   \n",
       "50%     213.710000   213.175000   220.510000   206.435000     0.095000   \n",
       "75%     388.762500   388.245000   401.597500   378.755000     2.997500   \n",
       "max    4241.190000  4173.610000  4366.100000  4151.390000    29.510000   \n",
       "\n",
       "             Volume  \n",
       "count  1.890000e+03  \n",
       "mean   5.875947e+06  \n",
       "std    8.098083e+06  \n",
       "min    0.000000e+00  \n",
       "25%    5.369325e+05  \n",
       "50%    1.990000e+06  \n",
       "75%    9.020000e+06  \n",
       "max    7.747000e+07  "
      ]
     },
     "execution_count": 30,
     "metadata": {},
     "output_type": "execute_result"
    }
   ],
   "source": [
    "df.describe()"
   ]
  },
  {
   "cell_type": "markdown",
   "id": "0c9322d1",
   "metadata": {},
   "source": [
    "- In the above figure we can see that for every column, we have mean> median. i.e Data is right skewed.\n",
    "- Each column contains outliers\n",
    "- Further more, our data needs to normalized. \n",
    "\n"
   ]
  },
  {
   "cell_type": "code",
   "execution_count": 31,
   "id": "9ed849ec",
   "metadata": {},
   "outputs": [
    {
     "data": {
      "text/plain": [
       "<AxesSubplot:>"
      ]
     },
     "execution_count": 31,
     "metadata": {},
     "output_type": "execute_result"
    },
    {
     "data": {
      "image/png": "[encoded data removed]",
      "text/plain": [
       "<Figure size 432x288 with 1 Axes>"
      ]
     },
     "metadata": {
      "needs_background": "light"
     },
     "output_type": "display_data"
    }
   ],
   "source": [
    "df.boxplot(column = 'Price', patch_artist = True)"
   ]
  },
  {
   "cell_type": "code",
   "execution_count": 32,
   "id": "04a1d83f",
   "metadata": {},
   "outputs": [
    {
     "data": {
      "text/plain": [
       "<AxesSubplot:>"
      ]
     },
     "execution_count": 32,
     "metadata": {},
     "output_type": "execute_result"
    },
    {
     "data": {
      "image/png": "[encoded data removed]",
      "text/plain": [
       "<Figure size 432x288 with 1 Axes>"
      ]
     },
     "metadata": {
      "needs_background": "light"
     },
     "output_type": "display_data"
    }
   ],
   "source": [
    "df.boxplot(column = 'Open', patch_artist = True, color = 'green')"
   ]
  },
  {
   "cell_type": "code",
   "execution_count": 33,
   "id": "19cd2f4e",
   "metadata": {},
   "outputs": [
    {
     "data": {
      "text/plain": [
       "<AxesSubplot:>"
      ]
     },
     "execution_count": 33,
     "metadata": {},
     "output_type": "execute_result"
    },
    {
     "data": {
      "image/png": "[encoded data removed]",
      "text/plain": [
       "<Figure size 432x288 with 1 Axes>"
      ]
     },
     "metadata": {
      "needs_background": "light"
     },
     "output_type": "display_data"
    }
   ],
   "source": [
    "df.boxplot(column = 'High', patch_artist = True, color = 'red' )"
   ]
  },
  {
   "cell_type": "code",
   "execution_count": 34,
   "id": "8fe6d4da",
   "metadata": {},
   "outputs": [
    {
     "data": {
      "text/plain": [
       "<AxesSubplot:>"
      ]
     },
     "execution_count": 34,
     "metadata": {},
     "output_type": "execute_result"
    },
    {
     "data": {
      "image/png": "[encoded data removed]",
      "text/plain": [
       "<Figure size 432x288 with 1 Axes>"
      ]
     },
     "metadata": {
      "needs_background": "light"
     },
     "output_type": "display_data"
    }
   ],
   "source": [
    "df.boxplot(column = 'Low', patch_artist = True, color = 'Black' )"
   ]
  },
  {
   "cell_type": "code",
   "execution_count": 35,
   "id": "c1b016e5",
   "metadata": {},
   "outputs": [
    {
     "data": {
      "text/plain": [
       "<AxesSubplot:>"
      ]
     },
     "execution_count": 35,
     "metadata": {},
     "output_type": "execute_result"
    },
    {
     "data": {
      "image/png": "[encoded data removed]",
      "text/plain": [
       "<Figure size 432x288 with 1 Axes>"
      ]
     },
     "metadata": {
      "needs_background": "light"
     },
     "output_type": "display_data"
    }
   ],
   "source": [
    "df.boxplot(column = 'Change %', patch_artist = True, color = 'Grey' )"
   ]
  },
  {
   "cell_type": "code",
   "execution_count": 36,
   "id": "eec908b5",
   "metadata": {},
   "outputs": [
    {
     "data": {
      "text/plain": [
       "<AxesSubplot:>"
      ]
     },
     "execution_count": 36,
     "metadata": {},
     "output_type": "execute_result"
    },
    {
     "data": {
      "image/png": "[encoded data removed]",
      "text/plain": [
       "<Figure size 432x288 with 1 Axes>"
      ]
     },
     "metadata": {
      "needs_background": "light"
     },
     "output_type": "display_data"
    }
   ],
   "source": [
    "df.boxplot(column = 'Volume', patch_artist = True, color = 'Indigo' )"
   ]
  },
  {
   "cell_type": "markdown",
   "id": "14aa7f37",
   "metadata": {},
   "source": [
    "#### In this project, I am not removing outliers, as we have a small dataset, hence I will use algorithms that are not sensitive to outliers. \n"
   ]
  },
  {
   "cell_type": "code",
   "execution_count": 40,
   "id": "23ab9f75",
   "metadata": {},
   "outputs": [
    {
     "name": "stderr",
     "output_type": "stream",
     "text": [
      "C:\\Users\\a\\anaconda3\\lib\\site-packages\\seaborn\\distributions.py:2557: FutureWarning: `distplot` is a deprecated function and will be removed in a future version. Please adapt your code to use either `displot` (a figure-level function with similar flexibility) or `histplot` (an axes-level function for histograms).\n",
      "  warnings.warn(msg, FutureWarning)\n",
      "C:\\Users\\a\\anaconda3\\lib\\site-packages\\seaborn\\distributions.py:2557: FutureWarning: `distplot` is a deprecated function and will be removed in a future version. Please adapt your code to use either `displot` (a figure-level function with similar flexibility) or `histplot` (an axes-level function for histograms).\n",
      "  warnings.warn(msg, FutureWarning)\n",
      "C:\\Users\\a\\anaconda3\\lib\\site-packages\\seaborn\\distributions.py:2557: FutureWarning: `distplot` is a deprecated function and will be removed in a future version. Please adapt your code to use either `displot` (a figure-level function with similar flexibility) or `histplot` (an axes-level function for histograms).\n",
      "  warnings.warn(msg, FutureWarning)\n",
      "C:\\Users\\a\\anaconda3\\lib\\site-packages\\seaborn\\distributions.py:2557: FutureWarning: `distplot` is a deprecated function and will be removed in a future version. Please adapt your code to use either `displot` (a figure-level function with similar flexibility) or `histplot` (an axes-level function for histograms).\n",
      "  warnings.warn(msg, FutureWarning)\n",
      "C:\\Users\\a\\anaconda3\\lib\\site-packages\\seaborn\\distributions.py:2557: FutureWarning: `distplot` is a deprecated function and will be removed in a future version. Please adapt your code to use either `displot` (a figure-level function with similar flexibility) or `histplot` (an axes-level function for histograms).\n",
      "  warnings.warn(msg, FutureWarning)\n",
      "C:\\Users\\a\\anaconda3\\lib\\site-packages\\seaborn\\distributions.py:2557: FutureWarning: `distplot` is a deprecated function and will be removed in a future version. Please adapt your code to use either `displot` (a figure-level function with similar flexibility) or `histplot` (an axes-level function for histograms).\n",
      "  warnings.warn(msg, FutureWarning)\n"
     ]
    },
    {
     "data": {
      "text/plain": [
       "<AxesSubplot:xlabel='Volume', ylabel='Density'>"
      ]
     },
     "execution_count": 40,
     "metadata": {},
     "output_type": "execute_result"
    },
    {
     "data": {
      "image/png": "[encoded data removed]",
      "text/plain": [
       "<Figure size 1080x1080 with 6 Axes>"
      ]
     },
     "metadata": {
      "needs_background": "light"
     },
     "output_type": "display_data"
    }
   ],
   "source": [
    "### Visualizing the distribution\n",
    "fig,ax = plt.subplots(3,2, figsize=(15,15))\n",
    "sns.distplot(df['Price'], ax = ax[0,0])\n",
    "sns.distplot(df['Open'], ax = ax[0,1])\n",
    "sns.distplot(df['High'], ax = ax[1,0])\n",
    "sns.distplot(df['Low'], ax = ax[1,1])\n",
    "sns.distplot(df['Change %'], ax = ax[2,0])\n",
    "sns.distplot(df['Volume'], ax = ax[2,1])\n"
   ]
  },
  {
   "cell_type": "markdown",
   "id": "1b970210",
   "metadata": {},
   "source": [
    "- We can see from the above figure, that except 'Change %', column, every other column is right skewed. \n",
    "- As we are using an algorithm which is not sensitive to outliers, we will use an algorithm based on decision tree, which is called XGboost. In this algorithm, skewness of data does not matter. So, we will not use any type of scaling or normalization on the data. "
   ]
  },
  {
   "cell_type": "markdown",
   "id": "0b59d261",
   "metadata": {},
   "source": [
    "#### MODEL BUILDING"
   ]
  },
  {
   "cell_type": "code",
   "execution_count": 42,
   "id": "9aba39ca",
   "metadata": {},
   "outputs": [],
   "source": [
    "### Seperating Independent and dependent features\n",
    "X = df.drop(['Price'], axis = 1)\n",
    "Y = df['Price']"
   ]
  },
  {
   "cell_type": "code",
   "execution_count": 43,
   "id": "cde9dee8",
   "metadata": {},
   "outputs": [
    {
     "data": {
      "text/html": [
       "<div>\n",
       "<style scoped>\n",
       "    .dataframe tbody tr th:only-of-type {\n",
       "        vertical-align: middle;\n",
       "    }\n",
       "\n",
       "    .dataframe tbody tr th {\n",
       "        vertical-align: top;\n",
       "    }\n",
       "\n",
       "    .dataframe thead th {\n",
       "        text-align: right;\n",
       "    }\n",
       "</style>\n",
       "<table border=\"1\" class=\"dataframe\">\n",
       "  <thead>\n",
       "    <tr style=\"text-align: right;\">\n",
       "      <th></th>\n",
       "      <th>Open</th>\n",
       "      <th>High</th>\n",
       "      <th>Low</th>\n",
       "      <th>Change %</th>\n",
       "      <th>Volume</th>\n",
       "    </tr>\n",
       "  </thead>\n",
       "  <tbody>\n",
       "    <tr>\n",
       "      <th>0</th>\n",
       "      <td>11.20</td>\n",
       "      <td>11.85</td>\n",
       "      <td>11.07</td>\n",
       "      <td>4.91</td>\n",
       "      <td>0.0</td>\n",
       "    </tr>\n",
       "    <tr>\n",
       "      <th>1</th>\n",
       "      <td>11.75</td>\n",
       "      <td>11.95</td>\n",
       "      <td>11.75</td>\n",
       "      <td>1.70</td>\n",
       "      <td>180.0</td>\n",
       "    </tr>\n",
       "    <tr>\n",
       "      <th>2</th>\n",
       "      <td>11.95</td>\n",
       "      <td>13.45</td>\n",
       "      <td>11.95</td>\n",
       "      <td>8.12</td>\n",
       "      <td>830.0</td>\n",
       "    </tr>\n",
       "    <tr>\n",
       "      <th>3</th>\n",
       "      <td>12.92</td>\n",
       "      <td>15.07</td>\n",
       "      <td>12.92</td>\n",
       "      <td>16.64</td>\n",
       "      <td>1300.0</td>\n",
       "    </tr>\n",
       "    <tr>\n",
       "      <th>4</th>\n",
       "      <td>15.07</td>\n",
       "      <td>15.07</td>\n",
       "      <td>11.40</td>\n",
       "      <td>-17.05</td>\n",
       "      <td>92180.0</td>\n",
       "    </tr>\n",
       "  </tbody>\n",
       "</table>\n",
       "</div>"
      ],
      "text/plain": [
       "    Open   High    Low  Change %   Volume\n",
       "0  11.20  11.85  11.07      4.91      0.0\n",
       "1  11.75  11.95  11.75      1.70    180.0\n",
       "2  11.95  13.45  11.95      8.12    830.0\n",
       "3  12.92  15.07  12.92     16.64   1300.0\n",
       "4  15.07  15.07  11.40    -17.05  92180.0"
      ]
     },
     "execution_count": 43,
     "metadata": {},
     "output_type": "execute_result"
    }
   ],
   "source": [
    "X.head()"
   ]
  },
  {
   "cell_type": "code",
   "execution_count": 44,
   "id": "d62e29b2",
   "metadata": {},
   "outputs": [
    {
     "data": {
      "text/plain": [
       "0    11.75\n",
       "1    11.95\n",
       "2    12.92\n",
       "3    15.07\n",
       "4    12.50\n",
       "Name: Price, dtype: float64"
      ]
     },
     "execution_count": 44,
     "metadata": {},
     "output_type": "execute_result"
    }
   ],
   "source": [
    "Y.head()"
   ]
  },
  {
   "cell_type": "code",
   "execution_count": 41,
   "id": "8ce79336",
   "metadata": {},
   "outputs": [],
   "source": [
    "from sklearn.model_selection import train_test_split"
   ]
  },
  {
   "cell_type": "code",
   "execution_count": 45,
   "id": "de7d423e",
   "metadata": {},
   "outputs": [],
   "source": [
    "X_train, X_test, Y_train, Y_test = train_test_split(X, Y, test_size = 0.25, random_state = 0)"
   ]
  },
  {
   "cell_type": "code",
   "execution_count": 47,
   "id": "c8719f2d",
   "metadata": {},
   "outputs": [],
   "source": [
    "import matplotlib.pyplot as plt\n",
    "\n",
    "from xgboost import XGBRegressor\n",
    "\n",
    "from sklearn.model_selection import GridSearchCV\n",
    "\n",
    "from sklearn.metrics import mean_squared_error\n",
    "from sklearn.metrics import mean_absolute_error\n",
    "\n"
   ]
  },
  {
   "cell_type": "code",
   "execution_count": 48,
   "id": "7f640dab",
   "metadata": {},
   "outputs": [],
   "source": [
    "def hyperParameterTuning(X_train, y_train):\n",
    "    param_tuning = {\n",
    "        'learning_rate': [0.01, 0.1],\n",
    "        'max_depth': [3, 5, 7, 10],\n",
    "        'min_child_weight': [1, 3, 5],\n",
    "        'subsample': [0.5, 0.7],\n",
    "        'colsample_bytree': [0.5, 0.7],\n",
    "        'n_estimators' : [100, 200, 500],\n",
    "        'objective': ['reg:squarederror']\n",
    "    }\n",
    "\n",
    "    xgb_model = XGBRegressor()\n",
    "\n",
    "    gsearch = GridSearchCV(estimator = xgb_model,\n",
    "                           param_grid = param_tuning,                        \n",
    "                           #scoring = 'neg_mean_absolute_error', #MAE\n",
    "                           #scoring = 'neg_mean_squared_error',  #MSE\n",
    "                           cv = 5,\n",
    "                           n_jobs = -1,\n",
    "                           verbose = 1)\n",
    "\n",
    "    gsearch.fit(X_train,y_train)\n",
    "\n",
    "    return gsearch.best_params_"
   ]
  },
  {
   "cell_type": "code",
   "execution_count": 49,
   "id": "dfdab7d0",
   "metadata": {},
   "outputs": [
    {
     "name": "stdout",
     "output_type": "stream",
     "text": [
      "Fitting 5 folds for each of 288 candidates, totalling 1440 fits\n"
     ]
    },
    {
     "data": {
      "text/plain": [
       "{'colsample_bytree': 0.7,\n",
       " 'learning_rate': 0.1,\n",
       " 'max_depth': 5,\n",
       " 'min_child_weight': 3,\n",
       " 'n_estimators': 500,\n",
       " 'objective': 'reg:squarederror',\n",
       " 'subsample': 0.5}"
      ]
     },
     "execution_count": 49,
     "metadata": {},
     "output_type": "execute_result"
    }
   ],
   "source": [
    "hyperParameterTuning(X_train, Y_train)"
   ]
  },
  {
   "cell_type": "code",
   "execution_count": 50,
   "id": "42ea6c1c",
   "metadata": {},
   "outputs": [
    {
     "data": {
      "text/plain": [
       "XGBRegressor(base_score=0.5, booster='gbtree', colsample_bylevel=1,\n",
       "             colsample_bynode=1, colsample_bytree=0.7, gamma=0, gpu_id=-1,\n",
       "             importance_type='gain', interaction_constraints='',\n",
       "             learning_rate=0.1, max_delta_step=0, max_depth=5,\n",
       "             min_child_weight=3, missing=nan, monotone_constraints='()',\n",
       "             n_estimators=500, n_jobs=8, num_parallel_tree=1, random_state=0,\n",
       "             reg_alpha=0, reg_lambda=1, scale_pos_weight=1, subsample=0.5,\n",
       "             tree_method='exact', validate_parameters=1, verbosity=None)"
      ]
     },
     "execution_count": 50,
     "metadata": {},
     "output_type": "execute_result"
    }
   ],
   "source": [
    "xgb_model = XGBRegressor(\n",
    "        objective = 'reg:squarederror',\n",
    "        colsample_bytree = 0.7,\n",
    "        learning_rate = 0.1,\n",
    "        max_depth = 5,\n",
    "        min_child_weight = 3,\n",
    "        n_estimators = 500,\n",
    "        subsample = 0.5)\n",
    "xgb_model.fit(X_train, Y_train)"
   ]
  },
  {
   "cell_type": "code",
   "execution_count": 51,
   "id": "b847ca59",
   "metadata": {},
   "outputs": [],
   "source": [
    "y_pred_xgb = xgb_model.predict(X_test)"
   ]
  },
  {
   "cell_type": "code",
   "execution_count": 52,
   "id": "29b00049",
   "metadata": {},
   "outputs": [
    {
     "data": {
      "text/plain": [
       "array([ 292.12787  , 1628.5278   ,  799.6215   ,  305.2083   ,\n",
       "        446.8031   ,  384.42096  ,    8.419887 ,   12.681583 ,\n",
       "        694.2247   ,  125.99837  ,   12.681583 ,   12.719954 ,\n",
       "        329.1475   , 1540.8461   ,   10.827455 ,  246.63676  ,\n",
       "         98.13413  ,   10.4671955,   10.503351 ,   13.343742 ,\n",
       "        241.29948  ,   11.919499 , 1773.3746   ,  566.33105  ,\n",
       "        107.9584   ,  201.63036  ,   11.565873 ,  185.90369  ,\n",
       "        376.83627  ,  611.18774  , 1534.2258   ,   99.537964 ,\n",
       "         11.299249 ,  183.83075  ,  136.32372  ,  547.995    ,\n",
       "         10.705633 ,   13.792789 ,   88.88969  ,  381.18027  ,\n",
       "        144.7994   ,  573.7047   ,  218.76819  ,  475.86     ,\n",
       "         12.182445 ,    9.408239 , 1514.6925   , 1001.98315  ,\n",
       "        172.9869   ,  169.63173  ,  230.60901  ,  185.64346  ,\n",
       "        868.4652   ,  252.03413  ,  627.3726   ,  122.29033  ,\n",
       "        372.848    ,   12.678839 ,   51.932262 ,  308.73666  ,\n",
       "         10.41315  ,  189.05815  , 1791.2213   ,  244.39565  ,\n",
       "        380.40817  ,  477.15387  ,  922.04565  ,  202.31012  ,\n",
       "         13.633514 ,   12.418223 ,    9.7273035,  196.88893  ,\n",
       "         83.95517  , 1416.535    , 1999.5094   ,  201.88287  ,\n",
       "        277.26987  ,  592.3058   ,  150.25476  ,  238.19363  ,\n",
       "          7.9870086,  113.53762  ,  477.7782   ,  243.0495   ,\n",
       "         12.373608 ,    9.075342 ,  210.19858  ,  168.58437  ,\n",
       "          8.842169 , 1683.0889   ,  108.689064 ,  171.00368  ,\n",
       "          7.8334656,  323.54733  ,  114.64038  ,  228.58014  ,\n",
       "       1566.1268   ,   10.902265 ,  222.29883  ,  723.2683   ,\n",
       "        515.7504   ,  150.49292  ,  133.8666   ,  701.4312   ,\n",
       "         11.618929 ,  777.3832   ,  464.0365   , 1533.1105   ,\n",
       "       1840.2672   ,   99.461975 ,  299.5935   ,  429.8795   ,\n",
       "        214.32051  ,  146.49365  ,  196.21593  ,  147.4654   ,\n",
       "        184.45482  ,   10.556323 , 2286.6921   ,   10.731623 ,\n",
       "        449.1546   ,  164.45007  ,  150.7878   ,  375.6705   ,\n",
       "        165.96681  ,  264.7223   ,   11.565873 ,  178.53822  ,\n",
       "        232.3091   ,  173.63367  ,  293.86612  ,  285.49347  ,\n",
       "        136.17725  ,  189.26904  ,  246.43607  ,  335.3111   ,\n",
       "         12.850536 ,  545.083    ,   14.39823  ,  121.83673  ,\n",
       "        858.4083   ,    8.434659 ,  200.20921  ,  334.11905  ,\n",
       "         11.867673 , 1690.352    ,  435.56586  ,  408.81488  ,\n",
       "        213.40639  ,  398.10468  ,  266.75833  ,  187.47702  ,\n",
       "        387.44244  ,  212.68835  ,  707.4409   ,  293.042    ,\n",
       "        218.82947  ,    8.671808 ,  366.12137  ,  350.893    ,\n",
       "        102.65543  ,  222.31245  ,  285.5069   ,  560.46606  ,\n",
       "       3461.4946   ,  217.96895  ,  146.61176  ,  230.78638  ,\n",
       "          8.849075 ,  135.53883  ,   11.50937  ,  217.10248  ,\n",
       "        187.12566  ,  248.69719  ,  188.04498  ,    8.976413 ,\n",
       "        300.64575  ,  105.350555 ,  204.05461  ,  329.11673  ,\n",
       "         20.236162 ,  357.49088  , 1251.8868   ,   11.0267725,\n",
       "        363.6093   ,  380.8479   ,  337.42554  ,  324.01794  ,\n",
       "        146.32732  , 1939.73     ,  352.39334  ,  333.41922  ,\n",
       "        205.73927  ,  460.9016   ,  198.23761  ,  239.1543   ,\n",
       "        254.3798   ,    8.968896 ,  189.49683  ,   10.492705 ,\n",
       "        165.95615  ,   41.512665 ,  169.13339  ,  266.60587  ,\n",
       "         10.4671955,  294.1858   ,  122.83692  , 1362.2097   ,\n",
       "        118.28008  ,  241.49393  ,  153.89893  ,  228.58801  ,\n",
       "          9.632137 ,  189.97789  ,  143.33713  ,  186.18993  ,\n",
       "        164.88217  ,  247.28513  ,   12.826418 ,  396.06473  ,\n",
       "        184.21146  ,  182.04402  ,  521.9926   ,  144.98279  ,\n",
       "          9.259366 ,  444.01813  ,  507.67545  ,   10.0139265,\n",
       "       1230.564    ,    9.978655 ,   49.93559  , 1116.4733   ,\n",
       "         41.67238  ,  297.89627  ,  227.33678  ,  388.4629   ,\n",
       "         10.204784 ,  202.0178   ,  227.16075  ,  297.02744  ,\n",
       "        217.90381  ,  332.6093   ,    9.94666  ,   12.176234 ,\n",
       "        600.4026   ,  149.9536   ,   87.880554 ,    9.116233 ,\n",
       "          9.225655 ,  294.78558  ,  744.69257  ,  378.233    ,\n",
       "          9.905888 ,  174.00363  ,  207.87209  ,  138.52156  ,\n",
       "        416.91006  ,   12.681583 ,  979.53265  ,  577.4619   ,\n",
       "        167.3233   ,   97.95019  ,   12.676285 ,    9.3605385,\n",
       "        231.20677  ,  694.9542   ,  167.62184  ,  317.93793  ,\n",
       "         13.314822 ,  385.06113  ,  203.30566  ,  147.82864  ,\n",
       "         50.697796 ,  849.7641   , 1167.4498   ,   11.098919 ,\n",
       "       1205.352    ,  181.54674  ,  497.89832  ,   10.986773 ,\n",
       "        300.78207  ,  142.3204   ,  855.9269   ,   11.710012 ,\n",
       "        164.73888  ,    9.2309   ,  241.61926  ,  366.99387  ,\n",
       "        427.26895  ,  207.98813  ,  169.36664  ,   13.777038 ,\n",
       "        153.75688  ,   12.201602 ,  128.8623   ,  381.23218  ,\n",
       "        179.97774  ,  185.52443  ,   13.540952 ,  239.02861  ,\n",
       "        180.48976  ,  310.60934  ,  281.07452  , 1053.9896   ,\n",
       "         52.52549  ,   49.44629  ,   10.856628 ,  198.24466  ,\n",
       "        389.62753  ,    8.415842 ,  166.31644  ,  220.25452  ,\n",
       "        146.53206  ,  606.3752   ,  228.64772  ,  148.38914  ,\n",
       "        150.09045  ,    8.482014 ,    9.778213 ,  358.4451   ,\n",
       "        136.38185  ,  218.01964  ,  449.41968  ,  322.07605  ,\n",
       "         10.902265 ,  834.65753  ,   10.870595 ,  170.54274  ,\n",
       "        108.10323  ,  132.1003   ,   10.209441 ,  293.36462  ,\n",
       "        114.53337  ,   12.507851 ,  225.09285  ,  281.81207  ,\n",
       "        233.11696  ,  190.26685  ,  168.33861  ,  181.39618  ,\n",
       "        212.86473  , 1125.2883   ,  310.20593  ,    9.483216 ,\n",
       "        199.50679  ,   12.041504 , 1245.28     ,  224.78642  ,\n",
       "        181.06853  ,  333.21817  ,  181.85179  ,  131.72766  ,\n",
       "        486.31348  ,    8.838725 ,   11.57303  ,  367.93143  ,\n",
       "        178.92534  ,  342.32224  , 1779.1165   ,  466.07196  ,\n",
       "          7.2850375,   12.994094 ,  278.64008  ,   11.77363  ,\n",
       "        134.54594  , 1389.1239   ,  119.50442  ,  295.7924   ,\n",
       "        298.44623  ,  430.00735  ,  475.45557  ,  358.9648   ,\n",
       "        454.26254  ,  292.8644   ,   44.93475  ,    8.711957 ,\n",
       "        220.05475  ,    8.292864 ,  134.71661  , 1820.6555   ,\n",
       "        360.64578  ,  216.90442  ,  203.01169  ,  135.58334  ,\n",
       "         12.342947 ,  376.07874  ,  352.90628  ,  170.4495   ,\n",
       "        674.45886  , 1795.3882   ,  298.7298   ,  229.50504  ,\n",
       "        126.82674  ,  300.37247  ,   14.2831335, 1128.1271   ,\n",
       "        145.42958  ,  138.03136  ,  133.28358  ,   11.738347 ,\n",
       "        134.7846   , 1519.6749   ,  239.21736  ,  139.16772  ,\n",
       "        671.9361   ,  230.5814   ,  189.11185  , 1631.3263   ,\n",
       "        205.20706  ,  224.83003  ,  227.34746  ,  186.52617  ,\n",
       "        384.62244  , 1247.2179   ,  241.79878  ,  305.12943  ,\n",
       "          9.535342 ,  241.62634  ,  219.61832  ,   10.856366 ,\n",
       "         54.907227 ,  672.9323   ,  349.09122  ,  806.9855   ,\n",
       "        110.54174  ,    6.363475 ,  346.24634  ,   11.72524  ,\n",
       "        171.4387   ,  114.5829   ,  472.3636   ,  184.50804  ,\n",
       "        455.59232  ,  770.9737   ,  412.89825  ,  146.91035  ,\n",
       "        603.3551   ,  194.78087  ,  300.78568  ,  920.34735  ,\n",
       "        210.56236  ,  250.4706   ,   42.089684 , 1348.5006   ,\n",
       "        168.3754   ,   49.940254 ,   12.561721 ,    9.599279 ,\n",
       "        103.44533  ,  844.0852   ,  211.95406  ,  897.0429   ,\n",
       "       2303.9885   ,  145.62306  ,    9.723852 ,  309.60953  ,\n",
       "        685.57     ,  255.52264  ,  279.84485  ,   19.317219 ,\n",
       "         90.53741  ,  537.6385   ,   48.02215  ,  174.88974  ,\n",
       "        288.69995  ,  238.97789  ,  114.86283  ,   80.7152   ,\n",
       "        140.36227  ,  243.44473  ,  209.71368  ,  130.72249  ,\n",
       "       2025.6902   ], dtype=float32)"
      ]
     },
     "execution_count": 52,
     "metadata": {},
     "output_type": "execute_result"
    }
   ],
   "source": [
    "y_pred_xgb"
   ]
  },
  {
   "cell_type": "code",
   "execution_count": 54,
   "id": "c168e60c",
   "metadata": {},
   "outputs": [
    {
     "data": {
      "text/plain": [
       "5.192653773188841"
      ]
     },
     "execution_count": 54,
     "metadata": {},
     "output_type": "execute_result"
    }
   ],
   "source": [
    "mae_xgb = mean_absolute_error(Y_test, y_pred_xgb)\n",
    "mae_xgb"
   ]
  },
  {
   "cell_type": "code",
   "execution_count": 58,
   "id": "798723d6",
   "metadata": {},
   "outputs": [
    {
     "name": "stdout",
     "output_type": "stream",
     "text": [
      "Accuracy of XGboost model is: 99.90363497350447%\n"
     ]
    }
   ],
   "source": [
    "## Accuracy\n",
    "acc = xgb_model.score(X_test, Y_test)*100\n",
    "print('Accuracy of XGboost model is: {}%'.format(acc))"
   ]
  },
  {
   "cell_type": "code",
   "execution_count": 59,
   "id": "a8ac5e7f",
   "metadata": {},
   "outputs": [],
   "source": [
    "### Deployement\n",
    "import pickle\n",
    "pickle_out = open('xgb_model.pkl', 'wb')\n",
    "pickle.dump(xgb_model, pickle_out)\n",
    "pickle_out.close()"
   ]
  },
  {
   "cell_type": "code",
   "execution_count": null,
   "id": "6ed48697",
   "metadata": {},
   "outputs": [],
   "source": []
  }
 ],
 "metadata": {
  "kernelspec": {
   "display_name": "Python 3",
   "language": "python",
   "name": "python3"
  },
  "language_info": {
   "codemirror_mode": {
    "name": "ipython",
    "version": 3
   },
   "file_extension": ".py",
   "mimetype": "text/x-python",
   "name": "python",
   "nbconvert_exporter": "python",
   "pygments_lexer": "ipython3",
   "version": "3.8.5"
  }
 },
 "nbformat": 4,
 "nbformat_minor": 5
}
